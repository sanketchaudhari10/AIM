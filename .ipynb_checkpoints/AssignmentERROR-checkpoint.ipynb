{
 "cells": [
  {
   "cell_type": "code",
   "execution_count": 89,
   "metadata": {},
   "outputs": [],
   "source": [
    "import pandas as pd\n",
    "import matplotlib.pyplot as plt\n",
    "import numpy as np"
   ]
  },
  {
   "cell_type": "code",
   "execution_count": 90,
   "metadata": {},
   "outputs": [
    {
     "name": "stdout",
     "output_type": "stream",
     "text": [
      "[-0.28930742 -0.58880963  1.02750749 ... -0.30516366  1.67583291\n",
      " -0.49175724] [-9.11011171e-02 -5.34677208e+01  7.54570088e+01 ... -3.49832749e+01\n",
      "  1.45206092e+02 -1.71244939e+01]\n"
     ]
    },
    {
     "data": {
      "text/plain": [
       "[<matplotlib.lines.Line2D at 0x1b36d8d46d0>]"
      ]
     },
     "execution_count": 90,
     "metadata": {},
     "output_type": "execute_result"
    },
    {
     "data": {
      "image/png": "[encoded data removed]",
      "text/plain": [
       "<Figure size 432x288 with 1 Axes>"
      ]
     },
     "metadata": {
      "needs_background": "light"
     },
     "output_type": "display_data"
    }
   ],
   "source": [
    "dfx=pd.read_csv(\"Linear_X_Train.csv\")\n",
    "dfy=pd.read_csv(\"Linear_Y_Train.csv\")\n",
    "\n",
    "dfx = dfx.values\n",
    "dfy = dfy.values\n",
    "\n",
    "x=dfx.reshape((-1,))\n",
    "y=dfy.reshape((-1,))\n",
    "\n",
    "print(x,y)\n",
    "\n",
    "plt.plot(x,y,\"o\")"
   ]
  },
  {
   "cell_type": "code",
   "execution_count": 91,
   "metadata": {},
   "outputs": [],
   "source": [
    "def hypothesis(x,theta):\n",
    "     return theta[1]*x+theta[0]"
   ]
  },
  {
   "cell_type": "code",
   "execution_count": 92,
   "metadata": {},
   "outputs": [],
   "source": [
    "def error(x,y,theta):\n",
    "    error=0\n",
    "    \n",
    "    for i in range(x.shape[0]):\n",
    "        hx = hypothesis(x[i],theta)\n",
    "        error += (hx - y[i])**2\n",
    "    return error    "
   ]
  },
  {
   "cell_type": "code",
   "execution_count": 93,
   "metadata": {},
   "outputs": [],
   "source": [
    "def gradient(x,y,theta):\n",
    "    grad = np.zeros((2,1),float)\n",
    "    \n",
    "    for i in range(x.shape[0]):\n",
    "        hx = hypothesis(x[i],theta)\n",
    "        grad[0] += (hx-y[i])\n",
    "        grad[1] += (hx-y[i])*x[i]\n",
    "    return grad    "
   ]
  },
  {
   "cell_type": "code",
   "execution_count": 94,
   "metadata": {},
   "outputs": [],
   "source": [
    "def gradientdescent(x,y):\n",
    "    theta = np.array([0.0,0.0],float)\n",
    "    error_list = []\n",
    "    theta_list = []\n",
    "    lr = 0.001\n",
    "    for i in range(100):\n",
    "        err = error(x,y,theta)\n",
    "        grad = gradient(x,y,theta)\n",
    "        \n",
    "        error_list.append(err)\n",
    "        theta_list.append(theta)\n",
    "        \n",
    "        theta[0] -= lr*grad[0]\n",
    "        theta[1] -= lr*grad[1]\n",
    "        \n",
    "    return theta,error_list\n",
    "\n",
    "\n",
    "        \n",
    "        \n",
    "        "
   ]
  },
  {
   "cell_type": "code",
   "execution_count": 95,
   "metadata": {},
   "outputs": [],
   "source": [
    "final_theta,error_list = gradientdescent(x,y)"
   ]
  },
  {
   "cell_type": "code",
   "execution_count": 96,
   "metadata": {},
   "outputs": [
    {
     "data": {
      "image/png": "[encoded data removed]",
      "text/plain": [
       "<Figure size 432x288 with 1 Axes>"
      ]
     },
     "metadata": {
      "needs_background": "light"
     },
     "output_type": "display_data"
    },
    {
     "data": {
      "image/png": "[encoded data removed]",
      "text/plain": [
       "<Figure size 432x288 with 1 Axes>"
      ]
     },
     "metadata": {
      "needs_background": "light"
     },
     "output_type": "display_data"
    }
   ],
   "source": [
    "\n",
    "plt.plot(error_list)\n",
    "\n",
    "plt.show()\n",
    "\n",
    "\n",
    "test = pd.read_csv(\"Linear_X_Test.csv\")\n",
    "test = test.values\n",
    "\n",
    "plt.scatter(x,y,label=\"training  \")\n",
    "plt.xlabel(\"X\")\n",
    "plt.ylabel(\"Y\")\n",
    "plt.title(\"INTO ML, FIRST ONE!!\")\n",
    "\n",
    "plt.plot(test,hypothesis(test,final_theta),color=\"orange\", label = \"prediction\")\n",
    "plt.legend()\n",
    "plt.show()"
   ]
  },
  {
   "cell_type": "code",
   "execution_count": null,
   "metadata": {},
   "outputs": [],
   "source": []
  },
  {
   "cell_type": "code",
   "execution_count": null,
   "metadata": {},
   "outputs": [],
   "source": []
  }
 ],
 "metadata": {
  "kernelspec": {
   "display_name": "Python 3",
   "language": "python",
   "name": "python3"
  },
  "language_info": {
   "codemirror_mode": {
    "name": "ipython",
    "version": 3
   },
   "file_extension": ".py",
   "mimetype": "text/x-python",
   "name": "python",
   "nbconvert_exporter": "python",
   "pygments_lexer": "ipython3",
   "version": "3.8.2"
  }
 },
 "nbformat": 4,
 "nbformat_minor": 4
}
