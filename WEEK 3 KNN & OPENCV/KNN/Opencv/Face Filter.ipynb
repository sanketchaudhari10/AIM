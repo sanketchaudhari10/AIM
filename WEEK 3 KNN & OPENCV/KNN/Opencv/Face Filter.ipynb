{
 "cells": [
  {
   "cell_type": "code",
   "execution_count": 2,
   "metadata": {},
   "outputs": [],
   "source": [
    "import numpy as np\n",
    "import cv2"
   ]
  },
  {
   "cell_type": "code",
   "execution_count": null,
   "metadata": {},
   "outputs": [],
   "source": [
    "img = cv2.imread(\"C:\\\\Users\\\\Omkar\\\\Downloads\\\\Before.png\", -1)\n",
    "mous = cv2.imread(\"C:\\\\Users\\\\Omkar\\\\Downloads\\\\mustache.png\", -1)\n",
    "glasses = cv2.imread(\"C:\\\\Users\\\\Omkar\\\\Downloads\\\\glasses.png\", -1)\n",
    "face_cascade = cv2.CascadeClassifier(\"C:\\\\Users\\\\Omkar\\\\Downloads\\\\haarcascade_frontalface_alt.xml\")\n",
    "eyes_cascade = cv2.CascadeClassifier(\"C:\\\\Users\\\\Omkar\\\\Downloads\\\\haarcascade_eye.xml\")\n",
    "nose_cascade = cv2.CascadeClassifier(\"C:\\\\Users\\\\Omkar\\\\Downloads\\\\haarcascade_mcs_nose.xml\")\n",
    "\n",
    "eyes = eyes_cascade.detectMultiScale(img, 1.3, 5)\n",
    "nose = nose_cascade.detectMultiScale(img, 1.3, 5)\n",
    "faces = face_cascade.detectMultiScale(img, 1.3, 5)\n",
    "\n",
    "for x, y, w, h in nose:\n",
    "    offset = 10\n",
    "    offsety = 40\n",
    "    extra = 10\n",
    "    # cv2.rectangle(img,(x,y+offsety),(x+w+offset,y+h+offset),(0,0,0),2)\n",
    "    img1 = img[y + offsety - extra:y + h + offset + extra, x:x + w + offset]\n",
    "    img2 = cv2.resize(mous, (w + offset, h + offset + 2 * extra - offsety))\n",
    "    w1, h1, z = img1.shape\n",
    "    for i in range(0, w1):\n",
    "        for j in range(0, h1):\n",
    "            if img2[i, j][3] != 0:\n",
    "                img1[i, j] = img2[i, j]\n",
    "    img[y + offsety - extra:y + h + offset + extra, x:x + w + offset] = img1\n",
    "\n",
    "for eye in eyes:\n",
    "    x, y, w, h = eye\n",
    "    offset = 20\n",
    "    offsety = 20\n",
    "    img1 = img[y - offsety:y + h + offsety, x - offset:x + w + offset]\n",
    "    # cv2.rectangle(img,(x-offset,y),(x+w+offset,y+h),(0,0,0),2)\n",
    "    # cv2.imshow(\"image\",img)\n",
    "    img2 = cv2.resize(glasses, (w + 2 * offset, h + 2 * offsety))\n",
    "    # cv2.imshow(\"image\",img2)\n",
    "    w1, h1, z = img1.shape\n",
    "    for i in range(0, w1):\n",
    "        for j in range(0, h1):\n",
    "            if img2[i, j][3] != 0:\n",
    "                img1[i, j] = img2[i, j]\n",
    "    img[y - offsety:y + h + offsety, x - offset:x + w + offset] = img1\n",
    "    cv2.imshow(\"image\", img)\n",
    "\n",
    "cv2.waitKey(0)\n",
    "cv2.destroyAllWindows()"
   ]
  },
  {
   "cell_type": "code",
   "execution_count": null,
   "metadata": {},
   "outputs": [],
   "source": []
  }
 ],
 "metadata": {
  "kernelspec": {
   "display_name": "Python 3",
   "language": "python",
   "name": "python3"
  },
  "language_info": {
   "codemirror_mode": {
    "name": "ipython",
    "version": 3
   },
   "file_extension": ".py",
   "mimetype": "text/x-python",
   "name": "python",
   "nbconvert_exporter": "python",
   "pygments_lexer": "ipython3",
   "version": "3.8.2"
  }
 },
 "nbformat": 4,
 "nbformat_minor": 4
}
